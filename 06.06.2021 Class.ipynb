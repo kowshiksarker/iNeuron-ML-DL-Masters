{
 "cells": [
  {
   "cell_type": "code",
   "execution_count": 3,
   "metadata": {},
   "outputs": [
    {
     "name": "stdout",
     "output_type": "stream",
     "text": [
      "dasjdh\n",
      "invalid literal for int() with base 10: 'dasjdh'\n"
     ]
    }
   ],
   "source": [
    "try:\n",
    "    a=10\n",
    "    b=int(input())\n",
    "    a/b\n",
    "except Exception as e:\n",
    "    print(e)"
   ]
  },
  {
   "cell_type": "code",
   "execution_count": 6,
   "metadata": {},
   "outputs": [
    {
     "name": "stdout",
     "output_type": "stream",
     "text": [
      "dfhlsdj\n",
      "There is an exception\n",
      "invalid literal for int() with base 10: 'dfhlsdj'\n"
     ]
    }
   ],
   "source": [
    "try:\n",
    "    a=input()\n",
    "    b=int(a)\n",
    "    print(b)\n",
    "except Exception as e:\n",
    "    print(\"There is an exception\")\n",
    "    print(e)\n",
    "else:\n",
    "    print(\"code executed succesfully\")"
   ]
  },
  {
   "cell_type": "code",
   "execution_count": 10,
   "metadata": {},
   "outputs": [
    {
     "name": "stdout",
     "output_type": "stream",
     "text": [
      "56\n",
      "56\n",
      "code executed succesfully\n",
      "it will execute everytime\n"
     ]
    }
   ],
   "source": [
    "try:\n",
    "    a=input()\n",
    "    b=int(a)\n",
    "    print(b)\n",
    "except Exception as e:\n",
    "    print(\"There is an exception\")\n",
    "    print(e)\n",
    "else:\n",
    "    print(\"code executed succesfully\")\n",
    "finally:\n",
    "    print(\"it will execute everytime\")"
   ]
  },
  {
   "cell_type": "code",
   "execution_count": 16,
   "metadata": {},
   "outputs": [
    {
     "name": "stdout",
     "output_type": "stream",
     "text": [
      "sfskf\n",
      "sdfhsdjfh\n",
      "ValueError Occurs\n",
      "invalid literal for int() with base 10: 'sdfhsdjfh'\n",
      "it will execute everytime\n"
     ]
    }
   ],
   "source": [
    "try:\n",
    "    a=input()\n",
    "    b=int(input())\n",
    "    c=a+b\n",
    "except Exception as e:\n",
    "    print(e)\n",
    "    print(\"Exception Occurs\")\n",
    "except IOError as e:\n",
    "    print(e)\n",
    "    print(\"IOError Occurs\")\n",
    "except ArithmeticError as e:\n",
    "    print(e)\n",
    "    print(\"ArithmeticError Occurs\")\n",
    "except FileNotFoundError as e:\n",
    "    print(e)\n",
    "    print(\"FileNotFoundError Occurs\")\n",
    "except ValueError as e:\n",
    "    print(e)\n",
    "    print(\"ValueError Occurs\")\n",
    "else:\n",
    "    print(\"code executed succesfully\")\n",
    "finally:\n",
    "    print(\"it will execute everytime\")"
   ]
  },
  {
   "cell_type": "code",
   "execution_count": 19,
   "metadata": {},
   "outputs": [
    {
     "name": "stdout",
     "output_type": "stream",
     "text": [
      "enter an integerdsdjhgas\n",
      "plese enter correct integer value\n",
      "enter an integeradjaksd\n",
      "invalid literal for int() with base 10: 'adjaksd'\n",
      "Exception Occurs\n",
      "Final Execution Completed\n"
     ]
    }
   ],
   "source": [
    "def test1():\n",
    "    try:\n",
    "        a=int(input(\"enter an integer\"))\n",
    "        return a\n",
    "    except:\n",
    "        print(\"plese enter correct integer value\")\n",
    "        try:\n",
    "            a=int(input(\"enter an integer\"))\n",
    "        except Exception as e:\n",
    "            print(e)\n",
    "            print(\"Exception Occurs\")\n",
    "    else:\n",
    "        print(\"Execution Completed\")\n",
    "    finally:\n",
    "        print(\"Final Execution Completed\")\n",
    "test1()"
   ]
  },
  {
   "cell_type": "code",
   "execution_count": 1,
   "metadata": {},
   "outputs": [],
   "source": [
    "def test2():\n",
    "    while True:\n",
    "        try:\n",
    "            a=int(input(\"enter an integer:\"))\n",
    "        except Exception as e:\n",
    "            print(\"there is an issue in input:\",e)\n",
    "            continue\n",
    "        else:\n",
    "            print(\"executed\")\n",
    "            print(a)\n",
    "            break"
   ]
  },
  {
   "cell_type": "code",
   "execution_count": 2,
   "metadata": {},
   "outputs": [
    {
     "name": "stdout",
     "output_type": "stream",
     "text": [
      "enter an integer:dsajdak\n",
      "there is an issue in input: invalid literal for int() with base 10: 'dsajdak'\n",
      "enter an integer:adjkshd\n",
      "there is an issue in input: invalid literal for int() with base 10: 'adjkshd'\n",
      "enter an integer:djhasdk\n",
      "there is an issue in input: invalid literal for int() with base 10: 'djhasdk'\n",
      "enter an integer:56\n",
      "executed\n",
      "56\n"
     ]
    }
   ],
   "source": [
    "test2()"
   ]
  },
  {
   "cell_type": "code",
   "execution_count": 16,
   "metadata": {},
   "outputs": [
    {
     "name": "stdout",
     "output_type": "stream",
     "text": [
      "4\n",
      "Less than 5\n"
     ]
    }
   ],
   "source": [
    "def cust_exception(a):\n",
    "    if a<5:\n",
    "        raise Exception(\"Less than 5\")\n",
    "    else:\n",
    "        return a\n",
    "try:\n",
    "    a=int(input())\n",
    "    b=cust_exception(a)\n",
    "    print(b)\n",
    "except Exception as e:\n",
    "    print(e)"
   ]
  },
  {
   "cell_type": "code",
   "execution_count": 17,
   "metadata": {},
   "outputs": [
    {
     "name": "stdout",
     "output_type": "stream",
     "text": [
      "invalid literal for int() with base 10: 'kowshik'\n",
      "1.0\n",
      "1.0\n"
     ]
    }
   ],
   "source": [
    "l=['kowshik',50,100]\n",
    "for i in l:\n",
    "    try:\n",
    "        div=int(i)/int(i)\n",
    "        print(div)\n",
    "    except Exception as e:\n",
    "        print(e)"
   ]
  },
  {
   "cell_type": "code",
   "execution_count": 20,
   "metadata": {},
   "outputs": [
    {
     "name": "stdout",
     "output_type": "stream",
     "text": [
      "enter an integer:-1\n",
      "entered value is: -1\n",
      "('Invalid Value Enterd:', -1)\n"
     ]
    }
   ],
   "source": [
    "try:\n",
    "    a=int(input(\"enter an integer:\"))\n",
    "    print(\"entered value is:\",a)\n",
    "    if a<0:\n",
    "        raise ValueError('Invalid Value Enterd:',a)\n",
    "except ValueError as e:\n",
    "    print(e)"
   ]
  }
 ],
 "metadata": {
  "kernelspec": {
   "display_name": "Python 3",
   "language": "python",
   "name": "python3"
  },
  "language_info": {
   "codemirror_mode": {
    "name": "ipython",
    "version": 3
   },
   "file_extension": ".py",
   "mimetype": "text/x-python",
   "name": "python",
   "nbconvert_exporter": "python",
   "pygments_lexer": "ipython3",
   "version": "3.8.3"
  }
 },
 "nbformat": 4,
 "nbformat_minor": 4
}
