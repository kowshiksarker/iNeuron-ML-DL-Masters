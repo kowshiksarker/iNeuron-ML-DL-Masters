{
 "cells": [
  {
   "cell_type": "code",
   "execution_count": 1,
   "metadata": {},
   "outputs": [
    {
     "data": {
      "text/plain": [
       "'sarker'"
      ]
     },
     "execution_count": 1,
     "metadata": {},
     "output_type": "execute_result"
    }
   ],
   "source": [
    "t=(4,5,6,7,'kowshik','sarker')\n",
    "t[-1]"
   ]
  },
  {
   "cell_type": "code",
   "execution_count": 2,
   "metadata": {},
   "outputs": [
    {
     "data": {
      "text/plain": [
       "dict"
      ]
     },
     "execution_count": 2,
     "metadata": {},
     "output_type": "execute_result"
    }
   ],
   "source": [
    "s={}\n",
    "type(s)"
   ]
  },
  {
   "cell_type": "code",
   "execution_count": 3,
   "metadata": {},
   "outputs": [
    {
     "data": {
      "text/plain": [
       "set"
      ]
     },
     "execution_count": 3,
     "metadata": {},
     "output_type": "execute_result"
    }
   ],
   "source": [
    "s1={4,5,6}\n",
    "type(s1)"
   ]
  },
  {
   "cell_type": "code",
   "execution_count": 4,
   "metadata": {},
   "outputs": [
    {
     "data": {
      "text/plain": [
       "{2, 4, 5, 'Kowshik'}"
      ]
     },
     "execution_count": 4,
     "metadata": {},
     "output_type": "execute_result"
    }
   ],
   "source": [
    "s2={2,2,2,2,2,4,4,4,4,4,5,5,5,5,5,'Kowshik','Kowshik','Kowshik'}\n",
    "s2"
   ]
  },
  {
   "cell_type": "code",
   "execution_count": 5,
   "metadata": {},
   "outputs": [
    {
     "data": {
      "text/plain": [
       "set"
      ]
     },
     "execution_count": 5,
     "metadata": {},
     "output_type": "execute_result"
    }
   ],
   "source": [
    "type(s2)"
   ]
  },
  {
   "cell_type": "code",
   "execution_count": 7,
   "metadata": {},
   "outputs": [
    {
     "data": {
      "text/plain": [
       "{'Kowshik', 'kowshik'}"
      ]
     },
     "execution_count": 7,
     "metadata": {},
     "output_type": "execute_result"
    }
   ],
   "source": [
    "s3={'Kowshik','kowshik'}\n",
    "s3"
   ]
  },
  {
   "cell_type": "code",
   "execution_count": 14,
   "metadata": {},
   "outputs": [
    {
     "data": {
      "text/plain": [
       "{'name': 'kowshik',\n",
       " 'surname': 'sarker',\n",
       " 'n': [4, 5, 6, 'kowshik', (3, 4, 5, 6)],\n",
       " 't': (3, 4, 5, 6),\n",
       " 's': {4, 5, 6},\n",
       " 'dict': {'y': 'ineuron'}}"
      ]
     },
     "execution_count": 14,
     "metadata": {},
     "output_type": "execute_result"
    }
   ],
   "source": [
    "d1={\"name\":\"kowshik\",\"name\":\"sarker\",\"n\":[4,5,6,\"kowshik\",(3,4,5,6)],\"t\":(3,4,5,6),\"s\":{4,5,6,4},\"dict\":{\"y\":\"ineuron\"}}\n",
    "d1\n",
    "#key should be unique,thus d1 would be \n",
    "d1={\"name\":\"kowshik\",\"surname\":\"sarker\",\"n\":[4,5,6,\"kowshik\",(3,4,5,6)],\"t\":(3,4,5,6),\"s\":{4,5,6,4},\"dict\":{\"y\":\"ineuron\"}}\n",
    "d1"
   ]
  },
  {
   "cell_type": "code",
   "execution_count": 11,
   "metadata": {},
   "outputs": [
    {
     "data": {
      "text/plain": [
       "'kowshik'"
      ]
     },
     "execution_count": 11,
     "metadata": {},
     "output_type": "execute_result"
    }
   ],
   "source": [
    "d1[\"name\"]"
   ]
  },
  {
   "cell_type": "code",
   "execution_count": null,
   "metadata": {},
   "outputs": [],
   "source": [
    "# string and tuple both are immutable"
   ]
  },
  {
   "cell_type": "code",
   "execution_count": 23,
   "metadata": {},
   "outputs": [
    {
     "data": {
      "text/plain": [
       "4"
      ]
     },
     "execution_count": 23,
     "metadata": {},
     "output_type": "execute_result"
    }
   ],
   "source": [
    "list(d1[\"s\"])[0]"
   ]
  },
  {
   "cell_type": "code",
   "execution_count": 26,
   "metadata": {},
   "outputs": [
    {
     "data": {
      "text/plain": [
       "{'name': 'sejuti',\n",
       " 'surname': 'sarker',\n",
       " 'n': [4, 5, 6, 'kowshik', (3, 4, 5, 6)],\n",
       " 't': (3, 4, 5, 6),\n",
       " 's': {4, 5, 6},\n",
       " 'dict': {'y': 'ineuron'},\n",
       " 'age': '22'}"
      ]
     },
     "execution_count": 26,
     "metadata": {},
     "output_type": "execute_result"
    }
   ],
   "source": [
    "d1[\"name\"]=\"sejuti\"\n",
    "d1\n",
    "d1[\"age\"]='22'\n",
    "d1"
   ]
  },
  {
   "cell_type": "code",
   "execution_count": 27,
   "metadata": {},
   "outputs": [
    {
     "ename": "TypeError",
     "evalue": "unhashable type: 'list'",
     "output_type": "error",
     "traceback": [
      "\u001b[1;31m---------------------------------------------------------------------------\u001b[0m",
      "\u001b[1;31mTypeError\u001b[0m                                 Traceback (most recent call last)",
      "\u001b[1;32m<ipython-input-27-dcc9b85e7d98>\u001b[0m in \u001b[0;36m<module>\u001b[1;34m\u001b[0m\n\u001b[1;32m----> 1\u001b[1;33m \u001b[0md1\u001b[0m\u001b[1;33m[\u001b[0m\u001b[1;33m[\u001b[0m\u001b[1;34m\"m\"\u001b[0m\u001b[1;33m]\u001b[0m\u001b[1;33m]\u001b[0m\u001b[1;33m=\u001b[0m\u001b[1;34m\"fgfgf\"\u001b[0m\u001b[1;33m\u001b[0m\u001b[1;33m\u001b[0m\u001b[0m\n\u001b[0m",
      "\u001b[1;31mTypeError\u001b[0m: unhashable type: 'list'"
     ]
    }
   ],
   "source": [
    "d1[[\"m\"]]=\"fgfgf\""
   ]
  },
  {
   "cell_type": "code",
   "execution_count": 31,
   "metadata": {},
   "outputs": [
    {
     "data": {
      "text/plain": [
       "dict_values(['sejuti', 'sarker', [4, 5, 6, 'kowshik', (3, 4, 5, 6)], (3, 4, 5, 6), {4, 5, 6}, {'y': 'ineuron'}, '22'])"
      ]
     },
     "execution_count": 31,
     "metadata": {},
     "output_type": "execute_result"
    }
   ],
   "source": [
    "d1.values()"
   ]
  },
  {
   "cell_type": "code",
   "execution_count": 32,
   "metadata": {},
   "outputs": [
    {
     "name": "stdout",
     "output_type": "stream",
     "text": [
      "{'name': 'kowshik'}\n"
     ]
    }
   ],
   "source": [
    "# for loop\n",
    "l=[5,6,7,8,\"kowshik\",(4,5,6,7),{\"name\":\"kowshik\"},{4,5,6,6,7},[1,2,3,4,5]]\n",
    "for v in l:\n",
    "    if type(v)==dict:\n",
    "        print(v)"
   ]
  },
  {
   "cell_type": "code",
   "execution_count": 36,
   "metadata": {},
   "outputs": [
    {
     "name": "stdout",
     "output_type": "stream",
     "text": [
      "value not found\n",
      "value not found\n",
      "3\n",
      "value not found\n",
      "value not found\n"
     ]
    }
   ],
   "source": [
    "for v in l:\n",
    "    if type(v)==list:\n",
    "        for j in v:\n",
    "            if j==3:\n",
    "                print(j)\n",
    "            else:\n",
    "                print(\"value not found\")"
   ]
  },
  {
   "cell_type": "code",
   "execution_count": 1,
   "metadata": {},
   "outputs": [],
   "source": [
    "l=[5,6,7,7,\"sudh\",(4,5,6,7),{\"name\":\"sudh\"},{5,6,7,8},[1,2,3,54,5]]"
   ]
  },
  {
   "cell_type": "code",
   "execution_count": 2,
   "metadata": {},
   "outputs": [
    {
     "name": "stdout",
     "output_type": "stream",
     "text": [
      "no there is no 3 availaible\n",
      "no there is no 3 availaible\n",
      "yes I am able to get three\n",
      "no there is no 3 availaible\n",
      "no there is no 3 availaible\n"
     ]
    }
   ],
   "source": [
    "for i in l :\n",
    "    if type(i)==list:\n",
    "        for j in i:\n",
    "            if j==3:\n",
    "                print(\"yes I am able to get three\")\n",
    "            else :\n",
    "                    print(\"no there is no 3 availaible\")"
   ]
  },
  {
   "cell_type": "code",
   "execution_count": 3,
   "metadata": {},
   "outputs": [],
   "source": [
    "d={\"name\":\"sudh\",\"mail\":\"deep@gmail.com\",\"no\":[454,54,454,54,5]}"
   ]
  },
  {
   "cell_type": "code",
   "execution_count": 4,
   "metadata": {},
   "outputs": [
    {
     "name": "stdout",
     "output_type": "stream",
     "text": [
      "sudh\n",
      "deep@gmail.com\n",
      "[454, 54, 454, 54, 5]\n"
     ]
    }
   ],
   "source": [
    "for i in d.values():\n",
    "    print(i)"
   ]
  },
  {
   "cell_type": "code",
   "execution_count": 5,
   "metadata": {},
   "outputs": [
    {
     "name": "stdout",
     "output_type": "stream",
     "text": [
      "sfsf\n",
      "sfsf\n",
      "[454, 54, 454, 54, 5]\n"
     ]
    }
   ],
   "source": [
    "for i in d.keys():\n",
    "    if type(d[i])==list:\n",
    "            print(d[i])\n",
    "    else:\n",
    "        print(\"sfsf\")"
   ]
  },
  {
   "cell_type": "code",
   "execution_count": 6,
   "metadata": {},
   "outputs": [
    {
     "data": {
      "text/plain": [
       "dict_items([('name', 'sudh'), ('mail', 'deep@gmail.com'), ('no', [454, 54, 454, 54, 5])])"
      ]
     },
     "execution_count": 6,
     "metadata": {},
     "output_type": "execute_result"
    }
   ],
   "source": [
    "d.items()"
   ]
  },
  {
   "cell_type": "code",
   "execution_count": 7,
   "metadata": {},
   "outputs": [
    {
     "name": "stdout",
     "output_type": "stream",
     "text": [
      "[454, 54, 454, 54, 5]\n",
      "elements 454\n",
      "no element lesser than 60\n",
      "elements 454\n",
      "no element lesser than 60\n",
      "no element lesser than 60\n"
     ]
    }
   ],
   "source": [
    "for i in d.items():\n",
    "    if type(i[1])==list:\n",
    "        print(i[1])\n",
    "        for j in i[1]:\n",
    "            if j>60:\n",
    "                print(\"elements\",j)\n",
    "            else:\n",
    "                    print(\"no element lesser than 60\")"
   ]
  },
  {
   "cell_type": "code",
   "execution_count": 8,
   "metadata": {},
   "outputs": [
    {
     "name": "stdout",
     "output_type": "stream",
     "text": [
      "[454, 54, 454, 54, 5]\n",
      "elements 454\n",
      "no element lesser than 60\n",
      "elements 454\n",
      "no element lesser than 60\n",
      "no element lesser than 60\n"
     ]
    }
   ],
   "source": [
    "for i in d.keys():\n",
    "    if type(d[i])==list:\n",
    "        print(d[i])\n",
    "        for j in d[i]:\n",
    "            if j>60:\n",
    "                print(\"elements\",j)\n",
    "            else:\n",
    "                    print(\"no element lesser than 60\")"
   ]
  },
  {
   "cell_type": "code",
   "execution_count": null,
   "metadata": {},
   "outputs": [],
   "source": []
  },
  {
   "cell_type": "code",
   "execution_count": null,
   "metadata": {},
   "outputs": [],
   "source": []
  },
  {
   "cell_type": "code",
   "execution_count": null,
   "metadata": {},
   "outputs": [],
   "source": []
  },
  {
   "cell_type": "code",
   "execution_count": null,
   "metadata": {},
   "outputs": [],
   "source": []
  },
  {
   "cell_type": "code",
   "execution_count": null,
   "metadata": {},
   "outputs": [],
   "source": []
  },
  {
   "cell_type": "code",
   "execution_count": null,
   "metadata": {},
   "outputs": [],
   "source": []
  },
  {
   "cell_type": "code",
   "execution_count": null,
   "metadata": {},
   "outputs": [],
   "source": []
  },
  {
   "cell_type": "code",
   "execution_count": null,
   "metadata": {},
   "outputs": [],
   "source": []
  },
  {
   "cell_type": "code",
   "execution_count": null,
   "metadata": {},
   "outputs": [],
   "source": []
  },
  {
   "cell_type": "code",
   "execution_count": null,
   "metadata": {},
   "outputs": [],
   "source": []
  },
  {
   "cell_type": "code",
   "execution_count": null,
   "metadata": {},
   "outputs": [],
   "source": []
  },
  {
   "cell_type": "code",
   "execution_count": null,
   "metadata": {},
   "outputs": [],
   "source": []
  }
 ],
 "metadata": {
  "kernelspec": {
   "display_name": "Python 3",
   "language": "python",
   "name": "python3"
  },
  "language_info": {
   "codemirror_mode": {
    "name": "ipython",
    "version": 3
   },
   "file_extension": ".py",
   "mimetype": "text/x-python",
   "name": "python",
   "nbconvert_exporter": "python",
   "pygments_lexer": "ipython3",
   "version": "3.8.3"
  }
 },
 "nbformat": 4,
 "nbformat_minor": 4
}
