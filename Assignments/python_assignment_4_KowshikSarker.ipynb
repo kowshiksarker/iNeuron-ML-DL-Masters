{
 "cells": [
  {
   "cell_type": "markdown",
   "metadata": {},
   "source": [
    "## 1.1 Write a Python Program(with class concepts) to find the area of the triangle using the below formula.\n",
    "## area = (s*(s-a)*(s-b)*(s-c)) ** 0.5\n",
    "## Function to take the length of the sides of triangle from user should be defined in the parent class and function to calculate the area should be defined in subclass."
   ]
  },
  {
   "cell_type": "code",
   "execution_count": 4,
   "metadata": {},
   "outputs": [
    {
     "name": "stdout",
     "output_type": "stream",
     "text": [
      "Enter a length of side a:10\n",
      "Enter a length of side b:10\n",
      "Enter a length of side c:10\n",
      "Area of the triangle is 43.30127018922193\n"
     ]
    }
   ],
   "source": [
    "class tri:\n",
    "    def __init__(side,a,b,c):\n",
    "        side.a=a\n",
    "        side.b=b\n",
    "        side.c=c\n",
    "    def area(side):\n",
    "        s=(side.a+side.b+side.c)/2\n",
    "        area=(s*(s-side.a)*(s-side.b)*(s-side.c))**0.5\n",
    "        return area\n",
    "    \n",
    "a=float(input(\"Enter a length of side a:\"))\n",
    "b=float(input(\"Enter a length of side b:\"))\n",
    "c=float(input(\"Enter a length of side c:\"))\n",
    "triangle=tri(a,b,c)\n",
    "\n",
    "print(\"Area of the triangle is {}\".format(triangle.area()))"
   ]
  },
  {
   "cell_type": "markdown",
   "metadata": {},
   "source": [
    "### 1.2 Write a function filter_long_words() that takes a list of words and an integer n and returns the list of words that are longer than n."
   ]
  },
  {
   "cell_type": "code",
   "execution_count": 7,
   "metadata": {},
   "outputs": [
    {
     "name": "stdout",
     "output_type": "stream",
     "text": [
      "Enter a value for n:-5\n",
      "List of words longer than 5\n",
      "['kowshik', 'sarker', 'ineuron', 'science']\n"
     ]
    }
   ],
   "source": [
    "def filter_long_word(lst1,n):\n",
    "    lst2=[]\n",
    "    for i in range(0,len(lst1)):\n",
    "        if len(lst1[i])>n:\n",
    "            lst2.append(lst1[i])\n",
    "    return lst2\n",
    "lst3=['kowshik','sarker','ineuron','data','science']\n",
    "n=int(input(\"Enter a value for n:-\"))\n",
    "l=filter_long_word(lst3,n)\n",
    "print(\"List of words longer than {}\".format(n))\n",
    "print(l)"
   ]
  },
  {
   "cell_type": "markdown",
   "metadata": {},
   "source": [
    "### 2.1 Write a Python program using function concept that maps list of words into a list of integers representing the lengths of the corresponding words.Hint: If a list [ ab,cde,erty] is passed on to the python function output should come as [2,3,4] Here 2,3 and 4 are the lengths of the words in the list."
   ]
  },
  {
   "cell_type": "code",
   "execution_count": 9,
   "metadata": {},
   "outputs": [
    {
     "name": "stdout",
     "output_type": "stream",
     "text": [
      "[2, 3, 4]\n"
     ]
    }
   ],
   "source": [
    "def length(lst):\n",
    "    lst1=[]\n",
    "    for i in range (0,len(lst)):\n",
    "        lst1.append(len(lst[i]))\n",
    "    return lst1\n",
    "lst2=['ab','cde','erty']\n",
    "lst_length=length(lst2)\n",
    "print(lst_length)"
   ]
  },
  {
   "cell_type": "markdown",
   "metadata": {},
   "source": [
    "### 2.2 Write a Python function which takes a character (i.e. a string of length 1) and returns True if it is a vowel, False otherwise."
   ]
  },
  {
   "cell_type": "code",
   "execution_count": 11,
   "metadata": {},
   "outputs": [
    {
     "name": "stdout",
     "output_type": "stream",
     "text": [
      "True\n",
      "False\n",
      "incorrect input\n",
      "None\n"
     ]
    }
   ],
   "source": [
    "def vow(x):\n",
    "    if len(x)==1:\n",
    "        if x in ('a','e','i','o','u','A','E','I','O','U'):\n",
    "            return True \n",
    "        else:\n",
    "            return False\n",
    "    else:\n",
    "        print('incorrect input')\n",
    "    \n",
    "print(vow('a'))\n",
    "print(vow('s'))\n",
    "print(vow('al'))"
   ]
  },
  {
   "cell_type": "code",
   "execution_count": null,
   "metadata": {},
   "outputs": [],
   "source": []
  },
  {
   "cell_type": "code",
   "execution_count": null,
   "metadata": {},
   "outputs": [],
   "source": []
  },
  {
   "cell_type": "code",
   "execution_count": null,
   "metadata": {},
   "outputs": [],
   "source": []
  },
  {
   "cell_type": "code",
   "execution_count": null,
   "metadata": {},
   "outputs": [],
   "source": []
  },
  {
   "cell_type": "code",
   "execution_count": null,
   "metadata": {},
   "outputs": [],
   "source": []
  },
  {
   "cell_type": "code",
   "execution_count": null,
   "metadata": {},
   "outputs": [],
   "source": []
  },
  {
   "cell_type": "code",
   "execution_count": null,
   "metadata": {},
   "outputs": [],
   "source": []
  },
  {
   "cell_type": "code",
   "execution_count": null,
   "metadata": {},
   "outputs": [],
   "source": []
  },
  {
   "cell_type": "code",
   "execution_count": null,
   "metadata": {},
   "outputs": [],
   "source": []
  },
  {
   "cell_type": "code",
   "execution_count": null,
   "metadata": {},
   "outputs": [],
   "source": []
  },
  {
   "cell_type": "code",
   "execution_count": null,
   "metadata": {},
   "outputs": [],
   "source": []
  },
  {
   "cell_type": "code",
   "execution_count": null,
   "metadata": {},
   "outputs": [],
   "source": []
  },
  {
   "cell_type": "code",
   "execution_count": null,
   "metadata": {},
   "outputs": [],
   "source": []
  },
  {
   "cell_type": "code",
   "execution_count": null,
   "metadata": {},
   "outputs": [],
   "source": []
  },
  {
   "cell_type": "code",
   "execution_count": null,
   "metadata": {},
   "outputs": [],
   "source": []
  },
  {
   "cell_type": "code",
   "execution_count": null,
   "metadata": {},
   "outputs": [],
   "source": []
  }
 ],
 "metadata": {
  "kernelspec": {
   "display_name": "Python 3",
   "language": "python",
   "name": "python3"
  },
  "language_info": {
   "codemirror_mode": {
    "name": "ipython",
    "version": 3
   },
   "file_extension": ".py",
   "mimetype": "text/x-python",
   "name": "python",
   "nbconvert_exporter": "python",
   "pygments_lexer": "ipython3",
   "version": "3.8.3"
  }
 },
 "nbformat": 4,
 "nbformat_minor": 4
}
